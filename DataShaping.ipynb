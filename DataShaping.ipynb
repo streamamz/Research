{
 "cells": [
  {
   "cell_type": "markdown",
   "metadata": {},
   "source": [
    "### DataShaping\n",
    "研究に使用するデータの成型を行う"
   ]
  },
  {
   "cell_type": "code",
   "execution_count": null,
   "metadata": {},
   "outputs": [],
   "source": [
    "import pandas as pd\n",
    "import numpy as np\n",
    "\n",
    "import MDUS"
   ]
  },
  {
   "cell_type": "code",
   "execution_count": null,
   "metadata": {},
   "outputs": [],
   "source": [
    "# orbitデータの成型\n",
    "orbit_original = pd.read_csv('./data/Orbit/orbits.csv',index_col=0)\n",
    "orbit_original = orbit_original.drop('year',axis=1)\n",
    "orbit_columns = orbit_original.columns\n",
    "for i in orbit_columns:\n",
    "    orbit_original[i] = pd.to_datetime(orbit_original[i])\n",
    "orbit_original.to_pickle('./data/Orbit/orbits.pkl')"
   ]
  },
  {
   "cell_type": "code",
   "execution_count": null,
   "metadata": {},
   "outputs": [],
   "source": [
    "# 正しく成形できているかの確認 -> OK\n",
    "data = MDUS.MagData()\n",
    "data.Input(orbit=199)\n",
    "data.Plot()"
   ]
  },
  {
   "cell_type": "code",
   "execution_count": 37,
   "metadata": {},
   "outputs": [],
   "source": [
    "# Dipデータの成型\n",
    "dip_original = pd.read_csv('./data/Dip/DipData.csv',index_col=0)\n",
    "dip_original = dip_original.drop('year',axis=1)\n",
    "dip_original = dip_original.drop('outbound',axis=1)\n",
    "dip_columns = dip_original.columns\n",
    "for i in dip_columns:\n",
    "    dip_original[i] = pd.to_datetime(dip_original[i])\n",
    "dip_original.to_pickle('./data/Dip/DipData.pkl')"
   ]
  }
 ],
 "metadata": {
  "kernelspec": {
   "display_name": "Python 3",
   "language": "python",
   "name": "python3"
  },
  "language_info": {
   "codemirror_mode": {
    "name": "ipython",
    "version": 3
   },
   "file_extension": ".py",
   "mimetype": "text/x-python",
   "name": "python",
   "nbconvert_exporter": "python",
   "pygments_lexer": "ipython3",
   "version": "3.9.18"
  }
 },
 "nbformat": 4,
 "nbformat_minor": 2
}
